{
 "cells": [
  {
   "cell_type": "markdown",
   "metadata": {},
   "source": [
    "# 非線性方程式求根"
   ]
  },
  {
   "cell_type": "markdown",
   "metadata": {},
   "source": [
    "## 二分逼近法（高中數學第二冊附錄）\n",
    "參考資料： https://zh.wikipedia.org/wiki/二分法_(數學)"
   ]
  },
  {
   "cell_type": "markdown",
   "metadata": {},
   "source": [
    "複習--勘根定理：\n",
    "設 $f(x)$ 是實係數 $n$ 次多項式，$a$ 與 $b$ 是相異實數 $(a<b)$。若 $f(a)\\cdot f(b)<0$，則方程式 $f(x)＝0$ 至少有一個實根 $c$，$c$ 介於 $a$ 與 $b$ 之間。\n"
   ]
  },
  {
   "cell_type": "markdown",
   "metadata": {
    "collapsed": true
   },
   "source": [
    "二分逼近法的概念：如果在 $a$ 和 $b$ 之間有根，那我們就把 $[a,b]$ 區間分成兩半，分別在兩半確認有沒有根。也就是取 $c=\\frac{a+b}{2}$，確認 $f(a)\\cdot f(c)$ 是否 $<0$。如果小於零，根就會落在 $[a,c]$；如果不是，根就會落在 $[c,b]$。針對有根的區間一路往下做，直到 $f(c)=0$，或是 $|a-b|$ 的值符合我們要的誤差，那就是我們要的結果了。"
   ]
  },
  {
   "cell_type": "code",
   "execution_count": 1,
   "metadata": {
    "collapsed": true
   },
   "outputs": [],
   "source": [
    "#定義我們要找根的函數\n",
    "def f(x):\n",
    "    return x*x-2"
   ]
  },
  {
   "cell_type": "code",
   "execution_count": 2,
   "metadata": {
    "collapsed": false
   },
   "outputs": [],
   "source": [
    "#參數：\n",
    "#func => 傳入我們要計算的函數\n",
    "#a    => 左邊界\n",
    "#b    => 右邊界\n",
    "#e    => 容許的誤差\n",
    "def bisection(func,a,b,e):\n",
    "    if func(a)*func(b)>0:\n",
    "        raise Exception(\"there is no root in the interval\")\n",
    "    while abs(a-b)>e :\n",
    "            c=(a+b)/2\n",
    "            if func(a)*func(c)<0:\n",
    "                b=c \n",
    "            elif func(a)*func(c)>0:\n",
    "                a=c\n",
    "            else:\n",
    "                break\n",
    "           \n",
    "    return c\n",
    "        \n",
    "    "
   ]
  },
  {
   "cell_type": "code",
   "execution_count": 3,
   "metadata": {
    "collapsed": false
   },
   "outputs": [
    {
     "data": {
      "text/plain": [
       "-1.4142141342163086"
      ]
     },
     "execution_count": 3,
     "metadata": {},
     "output_type": "execute_result"
    }
   ],
   "source": [
    "bisection(f,-2,-1,0.000001)"
   ]
  },
  {
   "cell_type": "code",
   "execution_count": 4,
   "metadata": {
    "collapsed": false
   },
   "outputs": [
    {
     "data": {
      "text/plain": [
       "1.4142141342163086"
      ]
     },
     "execution_count": 4,
     "metadata": {},
     "output_type": "execute_result"
    }
   ],
   "source": [
    "bisection(f,1,2,0.000001)"
   ]
  },
  {
   "cell_type": "markdown",
   "metadata": {},
   "source": [
    "## 以下為方程式的實際解"
   ]
  },
  {
   "cell_type": "markdown",
   "metadata": {},
   "source": [
    "使用 sympy 這個套件，透過 solve 可解出代數解，並以 N() 計算出該解的數值逼近 <br>\n",
    "http://docs.sympy.org/dev/modules/solvers/solvers.html <br>\n",
    "http://docs.sympy.org/dev/modules/evalf.html"
   ]
  },
  {
   "cell_type": "code",
   "execution_count": 5,
   "metadata": {
    "collapsed": false
   },
   "outputs": [
    {
     "name": "stdout",
     "output_type": "stream",
     "text": [
      "-sqrt(2) => -1.41421356237310\n",
      "sqrt(2) => 1.41421356237310\n"
     ]
    }
   ],
   "source": [
    "from sympy import *\n",
    "x = Symbol('x')\n",
    "roots=solve(f(x), x)\n",
    "for i in roots:\n",
    "    print(i,'=>',N(i))"
   ]
  },
  {
   "cell_type": "code",
   "execution_count": null,
   "metadata": {
    "collapsed": true
   },
   "outputs": [],
   "source": []
  },
  {
   "cell_type": "code",
   "execution_count": null,
   "metadata": {
    "collapsed": true
   },
   "outputs": [],
   "source": []
  }
 ],
 "metadata": {
  "kernelspec": {
   "display_name": "Python 3",
   "language": "python",
   "name": "python3"
  },
  "language_info": {
   "codemirror_mode": {
    "name": "ipython",
    "version": 3
   },
   "file_extension": ".py",
   "mimetype": "text/x-python",
   "name": "python",
   "nbconvert_exporter": "python",
   "pygments_lexer": "ipython3",
   "version": "3.5.1"
  }
 },
 "nbformat": 4,
 "nbformat_minor": 0
}
