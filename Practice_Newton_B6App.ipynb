{
 "cells": [
  {
   "cell_type": "markdown",
   "metadata": {},
   "source": [
    "# 非線性方程式求根"
   ]
  },
  {
   "cell_type": "markdown",
   "metadata": {},
   "source": [
    "## 牛頓法（高中數學甲II 附錄）"
   ]
  },
  {
   "cell_type": "markdown",
   "metadata": {},
   "source": [
    "首先，選擇一個接近函數 $f(x)$ 零點的 $x_0$，計算相應的 $f(x_0)$ 和切線斜率 $f'(x_0)$（這裡 $f'$ 表示函數 $f$ 的導數）。然後我們計算穿過點 $(x_0, f(x_0))$ 並且斜率為 $f'(x_0)$ 的直線和$x$軸的交點的 $x$ 坐標，也就是求如下方程的解：\n",
    "\n",
    "$f(x_0)= (x_0-x)\\cdot f'(x_0)$\n",
    "\n",
    "我們將新求得的點的 $x$ 坐標命名為 $x_1$，通常 $x_1$ 會比 $x_0$ 更接近方程 $f(x)=0$ 的解。因此我們現在可以利用 $x_1$ 開始下一輪迭代。迭代公式可化簡為如下所示：\n",
    "\n",
    "$x_{n+1} = x_n - \\frac{f(x_n)}{f'(x_n)}$\n",
    "\n",
    "已經證明，如果 $f'$ 是連續的，並且待求的零點 $x$ 是孤立的，那麼在零點$x$周圍存在一個區域，只要初始值 $x_0$ 位於這個鄰近區域內，那麼牛頓法必定收斂。\n",
    "並且，如果 $f'(x)$ 不為0, 那麼牛頓法將具有平方收斂的性能. 粗略的說，這意味著每迭代一次，牛頓法結果的有效數字將增加一倍。\n",
    "\n",
    "資料來源： [牛頓法---維基百科,自由的百科全書](https://zh.wikipedia.org/wiki/牛顿法)"
   ]
  },
  {
   "cell_type": "markdown",
   "metadata": {},
   "source": [
    "### 課本例題： \n",
    "利用牛頓法求 $\\sqrt{7}$ 的近似值"
   ]
  },
  {
   "cell_type": "code",
   "execution_count": 1,
   "metadata": {
    "collapsed": true
   },
   "outputs": [],
   "source": [
    "def f(x):\n",
    "    return x*x-7"
   ]
  },
  {
   "cell_type": "code",
   "execution_count": 2,
   "metadata": {
    "collapsed": false
   },
   "outputs": [],
   "source": [
    "def df(x):\n",
    "    return 2*x"
   ]
  },
  {
   "cell_type": "code",
   "execution_count": 3,
   "metadata": {
    "collapsed": false
   },
   "outputs": [
    {
     "name": "stdout",
     "output_type": "stream",
     "text": [
      "2.6457513110645907\n"
     ]
    }
   ],
   "source": [
    "a=3\n",
    "for i in range(1,200):\n",
    "    a=a-f(a)/df(a)\n",
    "print(a)"
   ]
  },
  {
   "cell_type": "code",
   "execution_count": 4,
   "metadata": {
    "collapsed": false
   },
   "outputs": [
    {
     "name": "stdout",
     "output_type": "stream",
     "text": [
      "0.0\n"
     ]
    }
   ],
   "source": [
    "from math import *\n",
    "error=abs(a-sqrt(7))\n",
    "print(error)"
   ]
  },
  {
   "cell_type": "code",
   "execution_count": null,
   "metadata": {
    "collapsed": true
   },
   "outputs": [],
   "source": []
  }
 ],
 "metadata": {
  "kernelspec": {
   "display_name": "Python 3",
   "language": "python",
   "name": "python3"
  },
  "language_info": {
   "codemirror_mode": {
    "name": "ipython",
    "version": 3
   },
   "file_extension": ".py",
   "mimetype": "text/x-python",
   "name": "python",
   "nbconvert_exporter": "python",
   "pygments_lexer": "ipython3",
   "version": "3.5.1"
  }
 },
 "nbformat": 4,
 "nbformat_minor": 0
}
