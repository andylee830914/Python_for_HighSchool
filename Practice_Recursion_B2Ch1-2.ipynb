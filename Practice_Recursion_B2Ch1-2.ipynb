{
 "cells": [
  {
   "cell_type": "markdown",
   "metadata": {},
   "source": [
    "# 遞迴數列（高中數學第二冊 1-2）"
   ]
  },
  {
   "cell_type": "markdown",
   "metadata": {},
   "source": [
    "### 課本例題： 階層\n",
    "數列 $\\{a_n\\}$ 的遞迴定義是 $\\left\\{\\begin{array}{l}a_1=1,\\\\a_n=na_{n-1},n\\in \\mathbb{N} ,n\\ge 2\\end{array}\\right.$，求 $a_5$"
   ]
  },
  {
   "cell_type": "code",
   "execution_count": 1,
   "metadata": {
    "collapsed": false
   },
   "outputs": [],
   "source": [
    "def myfac(x):\n",
    "    if x==1:\n",
    "        return 1            #當遇到 1! 時，就會回傳 1\n",
    "    else :\n",
    "        return x*myfac(x-1) #回傳值是 x * (x-1)! ， 程式會繼續求 (x-1)!\n"
   ]
  },
  {
   "cell_type": "code",
   "execution_count": 2,
   "metadata": {
    "collapsed": false
   },
   "outputs": [
    {
     "data": {
      "text/plain": [
       "120"
      ]
     },
     "execution_count": 2,
     "metadata": {},
     "output_type": "execute_result"
    }
   ],
   "source": [
    "myfac(5)"
   ]
  },
  {
   "cell_type": "markdown",
   "metadata": {},
   "source": [
    "以 myfac(5) 來說 ： <br>\n",
    "myfac(5) 會回傳 5 x myfac(4) <br>\n",
    "myfac(4) 會回傳 4 x myfac(3) <br>\n",
    "myfac(3) 會回傳 3 x myfac(2) <br>\n",
    "myfac(2) 會回傳 2 x myfac(1) <br>\n",
    "myfac(1) 會回傳 1 <br>\n",
    "依此回推就會得到 $5\\times 4 \\times 3 \\times 2\\times 1 =120$\n",
    "\n",
    "\n",
    "注意：這個寫法的定義域必須為 $\\mathbb{N}$ ，如果硬要算 0! 或是 (-1)! 都會出錯。可以用 ``if`` 來確保輸入的定義域是否正確。"
   ]
  },
  {
   "cell_type": "markdown",
   "metadata": {},
   "source": [
    "### 隨堂練習： \n",
    "數列 $\\{a_n\\}$ 的遞迴定義是 $\\left\\{\\begin{array}{l}a_1=2,\\\\a_n=(n-1)a_{n-1},n\\in \\mathbb{N} ,n\\ge 2\\end{array}\\right.$，求 $a_8$"
   ]
  },
  {
   "cell_type": "code",
   "execution_count": 3,
   "metadata": {
    "collapsed": true
   },
   "outputs": [],
   "source": [
    "def pract1(x):\n",
    "    if x==1:\n",
    "        return 2\n",
    "    else :\n",
    "        return (x-1)*pract1(x-1)\n"
   ]
  },
  {
   "cell_type": "code",
   "execution_count": 4,
   "metadata": {
    "collapsed": false
   },
   "outputs": [
    {
     "data": {
      "text/plain": [
       "10080"
      ]
     },
     "execution_count": 4,
     "metadata": {},
     "output_type": "execute_result"
    }
   ],
   "source": [
    "pract1(8)"
   ]
  },
  {
   "cell_type": "markdown",
   "metadata": {},
   "source": [
    "### 隨堂練習：費氏數列 (Fibonacci sequence)\n",
    "數列 $\\{a_n\\}$ 的遞迴定義是 $\\left\\{\\begin{array}{l}a_1=1,\\\\a_2=1\\\\a_n=a_{n-1}+a_{n-2},n\\in \\mathbb{N} ,n\\ge 3\\end{array}\\right.$，求 $a_{20}$\n",
    "\n",
    "\n",
    "Hint: <BR>\n",
    "``if x==1:\n",
    "elif x==2:\n",
    "else :``"
   ]
  },
  {
   "cell_type": "code",
   "execution_count": 5,
   "metadata": {
    "collapsed": true
   },
   "outputs": [],
   "source": [
    "def fibonacci(x):\n",
    "    if x==1:\n",
    "        return 1\n",
    "    elif x==2:\n",
    "        return 1\n",
    "    else :\n",
    "        return fibonacci(x-1)+fibonacci(x-2)\n",
    "\n"
   ]
  },
  {
   "cell_type": "code",
   "execution_count": 6,
   "metadata": {
    "collapsed": false
   },
   "outputs": [
    {
     "data": {
      "text/plain": [
       "6765"
      ]
     },
     "execution_count": 6,
     "metadata": {},
     "output_type": "execute_result"
    }
   ],
   "source": [
    "fibonacci(20)"
   ]
  },
  {
   "cell_type": "code",
   "execution_count": null,
   "metadata": {
    "collapsed": true
   },
   "outputs": [],
   "source": []
  }
 ],
 "metadata": {
  "kernelspec": {
   "display_name": "Python 3",
   "language": "python",
   "name": "python3"
  },
  "language_info": {
   "codemirror_mode": {
    "name": "ipython",
    "version": 3
   },
   "file_extension": ".py",
   "mimetype": "text/x-python",
   "name": "python",
   "nbconvert_exporter": "python",
   "pygments_lexer": "ipython3",
   "version": "3.5.1"
  }
 },
 "nbformat": 4,
 "nbformat_minor": 0
}
