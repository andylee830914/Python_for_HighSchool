{
 "cells": [
  {
   "cell_type": "markdown",
   "metadata": {},
   "source": [
    "# 練習（解答）\n",
    "#### 改自105學測多選11\n",
    "一個 41 人的班級某次數學考試，每個人的成績都未超過 59 分。老師決定以下列方式調整成績：原始成績為 $x$ 分的學生，新成績調整為 $40\\log_{10}(\\frac{x+1}{10})+60$ 分(四捨五入到整數)。"
   ]
  },
  {
   "cell_type": "markdown",
   "metadata": {},
   "source": [
    "##### 按：本題拿掉全距的計算，因為該選項若全班成績相等時，調整前後全距皆為 0"
   ]
  },
  {
   "cell_type": "markdown",
   "metadata": {},
   "source": [
    "### 假設以下是原始班級成績：\n",
    "(請先將底下這行，按 shift+enter 執行)"
   ]
  },
  {
   "cell_type": "code",
   "execution_count": 1,
   "metadata": {
    "collapsed": false
   },
   "outputs": [],
   "source": [
    "score=[56, 29, 31, 44, 35, 48, 36, 25, 13, 50, 52, 25, 36, 24, 41, 59, 45, 21, 11, 25, 15, 27, 12, 37, 17, 40, 43, 28, 54, 34, 48, 26, 7, 57, 9, 3, 15, 0, 51, 14, 28]"
   ]
  },
  {
   "cell_type": "markdown",
   "metadata": {},
   "source": [
    "### 1. 請寫出一個函數可以計算調整後的成績\n",
    "(Hint: math 函式庫 https://docs.python.org/2/library/math.html#math.log)"
   ]
  },
  {
   "cell_type": "code",
   "execution_count": 2,
   "metadata": {
    "collapsed": false
   },
   "outputs": [],
   "source": [
    "import math\n",
    "def f(x):\n",
    "    return round(40*math.log((x+1)/10,10)+60,0)"
   ]
  },
  {
   "cell_type": "markdown",
   "metadata": {},
   "source": [
    "### 2. 請利用這個函數計算「原始成績 9 分的同學，調整後的新分數是多少？」"
   ]
  },
  {
   "cell_type": "code",
   "execution_count": 3,
   "metadata": {
    "collapsed": false
   },
   "outputs": [
    {
     "data": {
      "text/plain": [
       "60.0"
      ]
     },
     "execution_count": 3,
     "metadata": {},
     "output_type": "execute_result"
    }
   ],
   "source": [
    "f(9)"
   ]
  },
  {
   "cell_type": "markdown",
   "metadata": {},
   "source": [
    "### 3. 請利用這個函數以及迴圈，計算「全班更改過後的成績」\n",
    "(Hint: map)"
   ]
  },
  {
   "cell_type": "code",
   "execution_count": 4,
   "metadata": {
    "collapsed": true
   },
   "outputs": [],
   "source": [
    "new_score=[]\n",
    "for i in map(f,score):\n",
    "    new_score.append(i)"
   ]
  },
  {
   "cell_type": "markdown",
   "metadata": {},
   "source": [
    "### 4. 請將原始分數排序，並求出中位數\n",
    "(Hint: 你可以透過 score[x] 來取得第 x+1 個的分數。如第一個人為 56 分，你可以透過 score[0] 來取得他的分數)"
   ]
  },
  {
   "cell_type": "code",
   "execution_count": 5,
   "metadata": {
    "collapsed": false
   },
   "outputs": [
    {
     "name": "stdout",
     "output_type": "stream",
     "text": [
      "29\n"
     ]
    }
   ],
   "source": [
    "score.sort()\n",
    "med=score[20]\n",
    "print(med)"
   ]
  },
  {
   "cell_type": "markdown",
   "metadata": {},
   "source": [
    "### 5. 成績為中位數的同學，調整過後是否仍為中位數？\n",
    "* 算出全班調整過後成績的中位數\n",
    "* 利用成績調整的函數，與第4題求得之中位數，算出中位數調整過後的分數\n",
    "* 比較前兩點是否得到相同答案"
   ]
  },
  {
   "cell_type": "code",
   "execution_count": 6,
   "metadata": {
    "collapsed": false
   },
   "outputs": [
    {
     "name": "stdout",
     "output_type": "stream",
     "text": [
      "79.0\n"
     ]
    }
   ],
   "source": [
    "new_score.sort()\n",
    "new_med=new_score[20]\n",
    "print(new_med)"
   ]
  },
  {
   "cell_type": "code",
   "execution_count": 7,
   "metadata": {
    "collapsed": false
   },
   "outputs": [
    {
     "data": {
      "text/plain": [
       "79.0"
      ]
     },
     "execution_count": 7,
     "metadata": {},
     "output_type": "execute_result"
    }
   ],
   "source": [
    "f(med)"
   ]
  },
  {
   "cell_type": "code",
   "execution_count": 8,
   "metadata": {
    "collapsed": false
   },
   "outputs": [
    {
     "name": "stdout",
     "output_type": "stream",
     "text": [
      "True\n"
     ]
    }
   ],
   "source": [
    "if f(med)-new_med==0 :\n",
    "    print(\"True\")\n",
    "else :\n",
    "    print(\"False\")"
   ]
  },
  {
   "cell_type": "markdown",
   "metadata": {},
   "source": [
    "### 6. 成績為平均數的同學，調整過後是否仍為平均數？\n",
    "* 算出全班調整前的平均數 (Hint: 1.可利用for迴圈計算連加 2.使用list加法函數 3.使用list平均函數 後兩個沒有講過，自己找)\n",
    "* 利用成績調整的函數，與前項求得之平均數，算出此平均數調整過後的分數，並四捨五入到整數\n",
    "* 算出全班調整後的平均數，並四捨五入到整數\n",
    "* 比較2、3點的答案是否相同"
   ]
  },
  {
   "cell_type": "code",
   "execution_count": 9,
   "metadata": {
    "collapsed": false
   },
   "outputs": [
    {
     "name": "stdout",
     "output_type": "stream",
     "text": [
      "31.0\n"
     ]
    }
   ],
   "source": [
    "mean=sum(score)/41\n",
    "print(mean)"
   ]
  },
  {
   "cell_type": "code",
   "execution_count": 10,
   "metadata": {
    "collapsed": false
   },
   "outputs": [
    {
     "data": {
      "text/plain": [
       "80.0"
      ]
     },
     "execution_count": 10,
     "metadata": {},
     "output_type": "execute_result"
    }
   ],
   "source": [
    "f(mean)"
   ]
  },
  {
   "cell_type": "code",
   "execution_count": 11,
   "metadata": {
    "collapsed": false
   },
   "outputs": [
    {
     "name": "stdout",
     "output_type": "stream",
     "text": [
      "77.0\n"
     ]
    }
   ],
   "source": [
    "new_mean=round(sum(new_score)/41,0)\n",
    "print(new_mean)"
   ]
  },
  {
   "cell_type": "code",
   "execution_count": 12,
   "metadata": {
    "collapsed": false
   },
   "outputs": [
    {
     "name": "stdout",
     "output_type": "stream",
     "text": [
      "False\n"
     ]
    }
   ],
   "source": [
    "if f(mean)-new_mean==0 :\n",
    "    print(\"True\")\n",
    "else :\n",
    "    print(\"False\")"
   ]
  },
  {
   "cell_type": "code",
   "execution_count": null,
   "metadata": {
    "collapsed": false
   },
   "outputs": [],
   "source": []
  },
  {
   "cell_type": "code",
   "execution_count": null,
   "metadata": {
    "collapsed": true
   },
   "outputs": [],
   "source": []
  }
 ],
 "metadata": {
  "kernelspec": {
   "display_name": "Python 3",
   "language": "python",
   "name": "python3"
  },
  "language_info": {
   "codemirror_mode": {
    "name": "ipython",
    "version": 3
   },
   "file_extension": ".py",
   "mimetype": "text/x-python",
   "name": "python",
   "nbconvert_exporter": "python",
   "pygments_lexer": "ipython3",
   "version": "3.5.1"
  }
 },
 "nbformat": 4,
 "nbformat_minor": 0
}
